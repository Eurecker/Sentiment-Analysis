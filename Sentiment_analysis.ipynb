{
  "nbformat": 4,
  "nbformat_minor": 0,
  "metadata": {
    "colab": {
      "name": "Sentiment_analysis.ipynb",
      "provenance": [],
      "collapsed_sections": [],
      "toc_visible": true,
      "authorship_tag": "ABX9TyPApFJoRWrH+rAXMN3Oaqko",
      "include_colab_link": true
    },
    "kernelspec": {
      "name": "python3",
      "display_name": "Python 3"
    },
    "language_info": {
      "name": "python"
    }
  },
  "cells": [
    {
      "cell_type": "markdown",
      "metadata": {
        "id": "view-in-github",
        "colab_type": "text"
      },
      "source": [
        "<a href=\"https://colab.research.google.com/github/Eurecker/Eurecker/blob/main/Sentiment_analysis.ipynb\" target=\"_parent\"><img src=\"https://colab.research.google.com/assets/colab-badge.svg\" alt=\"Open In Colab\"/></a>"
      ]
    },
    {
      "cell_type": "code",
      "metadata": {
        "id": "5Ha895wRNJOR"
      },
      "source": [
        "#Importing the required libraries\n",
        "import tweepy \n",
        "from textblob import TextBlob\n",
        "import pandas as pd\n",
        "import numpy as np\n",
        "import re \n",
        "import matplotlib.pyplot as plt\n",
        "plt.style.use('ggplot')\n"
      ],
      "execution_count": null,
      "outputs": []
    },
    {
      "cell_type": "code",
      "metadata": {
        "id": "k50FGvpwg9-h"
      },
      "source": [
        "# Twitter API Info \n",
        "APIkey= \"02LHdIEpLqkPwBitX0bCgapjZ\"\n",
        "APISecretKey= \"BjwEXmlljAr2dxT2fIo0ASK0U2DdPgeFvEzKpaPoWBuJ4IeHk3\"\n",
        "accessToken= \"834452775341871106-lB7yeKdbP2ndVW4UHz7Ow8GWCULjpO5\"\n",
        "accessTokenSecret= \"YJMAZZQOrL8QKLj3tXQwciqtKMvXiNgc2uPm0I2qbcPcm\"\n"
      ],
      "execution_count": null,
      "outputs": []
    },
    {
      "cell_type": "code",
      "metadata": {
        "id": "fe6FZN2BP0au"
      },
      "source": [
        "# Authentication Object Creation\n",
        "authenticate = tweepy.OAuthHandler(APIkey,APISecretKey)\n",
        "authenticate.set_access_token(accessToken,accessTokenSecret)\n",
        "api = tweepy.API(authenticate)"
      ],
      "execution_count": null,
      "outputs": []
    },
    {
      "cell_type": "code",
      "metadata": {
        "id": "c5-9iTDfQxBy",
        "colab": {
          "base_uri": "https://localhost:8080/"
        },
        "outputId": "de6123c8-2755-4cbd-fd02-6bc93c712853"
      },
      "source": [
        "posts= api.user_timeline(screen_name='Bitcoin',count=100,lang=\"en\",tweet_mode='extended')\n",
        "i=1\n",
        "for tweet in posts[:10]:  # just want to see the top 10 from 100\n",
        "    print(str(i) + ') ' + tweet.full_text + '\\n')\n",
        "    i= i+1"
      ],
      "execution_count": null,
      "outputs": [
        {
          "output_type": "stream",
          "text": [
            "1) \"#Bitcoin is a technical solution to give 8,000,000,000 people property rights... when their relatives remit money back to El Salvador they lose 10% through money transfer agents\" @MicroStrategy CEO @Michael_Saylor https://t.co/I72nkuXQhE\n",
            "\n",
            "2) “Digital assets are quickly becoming integrated into the existing framework of financial services, and it is critical we have the tools in place to provide our clients with solutions” @statestreet CEO Ron O’Hanley https://t.co/5qQ7KxcYgD https://t.co/FrMQRroI21\n",
            "\n",
            "3) RT @BitcoinMagazine: Wikipedia now lists #Bitcoin as El Salvador's currency. 🇸🇻 https://t.co/dBama9nwcE\n",
            "\n",
            "4) The 100-1,000 #Bitcoin wallets are stronger than ever! https://t.co/dRHXMjD2s8\n",
            "\n",
            "5) $37,500.\n",
            "\n",
            "6) 🇸🇻 https://t.co/1MXcNFGbLB\n",
            "\n",
            "7) RT @nayibbukele: I’ve just instructed the president of @LaGeoSV (our state-owned geothermal electric company), to put up a plan to offer fa…\n",
            "\n",
            "8) A sovereign nation 🇸🇻 making #Bitcoin legal tender. @nayibbukele https://t.co/iSfgNRSVT8\n",
            "\n",
            "9) RT @udiWertheimer: bitcoiners meeting in el salvador after dying in mysterious boat accidents https://t.co/26Ik4n4zC2\n",
            "\n",
            "10) RT @CaitlinLong_: 🧐 Wow this is #ElSalvador’s proposed #bitcoin-as-legal-tender law, English translation https://t.co/RT8tRcRotB\n",
            "\n"
          ],
          "name": "stdout"
        }
      ]
    },
    {
      "cell_type": "code",
      "metadata": {
        "id": "0Y83wYTQg7bw",
        "colab": {
          "base_uri": "https://localhost:8080/",
          "height": 399
        },
        "outputId": "cc554531-cfb1-411e-bd8b-1f901c434002"
      },
      "source": [
        "# Creating a dataframe using pandas to sort the data \n",
        "df= pd.DataFrame([tweet.full_text for tweet in posts],columns=['Tweets'])\n",
        "df"
      ],
      "execution_count": null,
      "outputs": [
        {
          "output_type": "execute_result",
          "data": {
            "text/html": [
              "<div>\n",
              "<style scoped>\n",
              "    .dataframe tbody tr th:only-of-type {\n",
              "        vertical-align: middle;\n",
              "    }\n",
              "\n",
              "    .dataframe tbody tr th {\n",
              "        vertical-align: top;\n",
              "    }\n",
              "\n",
              "    .dataframe thead th {\n",
              "        text-align: right;\n",
              "    }\n",
              "</style>\n",
              "<table border=\"1\" class=\"dataframe\">\n",
              "  <thead>\n",
              "    <tr style=\"text-align: right;\">\n",
              "      <th></th>\n",
              "      <th>Tweets</th>\n",
              "    </tr>\n",
              "  </thead>\n",
              "  <tbody>\n",
              "    <tr>\n",
              "      <th>0</th>\n",
              "      <td>\"#Bitcoin is a technical solution to give 8,00...</td>\n",
              "    </tr>\n",
              "    <tr>\n",
              "      <th>1</th>\n",
              "      <td>“Digital assets are quickly becoming integrate...</td>\n",
              "    </tr>\n",
              "    <tr>\n",
              "      <th>2</th>\n",
              "      <td>RT @BitcoinMagazine: Wikipedia now lists #Bitc...</td>\n",
              "    </tr>\n",
              "    <tr>\n",
              "      <th>3</th>\n",
              "      <td>The 100-1,000 #Bitcoin wallets are stronger th...</td>\n",
              "    </tr>\n",
              "    <tr>\n",
              "      <th>4</th>\n",
              "      <td>$37,500.</td>\n",
              "    </tr>\n",
              "    <tr>\n",
              "      <th>...</th>\n",
              "      <td>...</td>\n",
              "    </tr>\n",
              "    <tr>\n",
              "      <th>95</th>\n",
              "      <td>RT @dan_pantera: This is getting ridiculous.  ...</td>\n",
              "    </tr>\n",
              "    <tr>\n",
              "      <th>96</th>\n",
              "      <td>An interesting increase in the fiat money expe...</td>\n",
              "    </tr>\n",
              "    <tr>\n",
              "      <th>97</th>\n",
              "      <td>Most likely #Bitcoin is not going away. The fu...</td>\n",
              "    </tr>\n",
              "    <tr>\n",
              "      <th>98</th>\n",
              "      <td>#Bitcoin is in the top-10 of the world's M1 Mo...</td>\n",
              "    </tr>\n",
              "    <tr>\n",
              "      <th>99</th>\n",
              "      <td>$63,500.</td>\n",
              "    </tr>\n",
              "  </tbody>\n",
              "</table>\n",
              "<p>100 rows × 1 columns</p>\n",
              "</div>"
            ],
            "text/plain": [
              "                                               Tweets\n",
              "0   \"#Bitcoin is a technical solution to give 8,00...\n",
              "1   “Digital assets are quickly becoming integrate...\n",
              "2   RT @BitcoinMagazine: Wikipedia now lists #Bitc...\n",
              "3   The 100-1,000 #Bitcoin wallets are stronger th...\n",
              "4                                            $37,500.\n",
              "..                                                ...\n",
              "95  RT @dan_pantera: This is getting ridiculous.  ...\n",
              "96  An interesting increase in the fiat money expe...\n",
              "97  Most likely #Bitcoin is not going away. The fu...\n",
              "98  #Bitcoin is in the top-10 of the world's M1 Mo...\n",
              "99                                           $63,500.\n",
              "\n",
              "[100 rows x 1 columns]"
            ]
          },
          "metadata": {
            "tags": []
          },
          "execution_count": 49
        }
      ]
    },
    {
      "cell_type": "code",
      "metadata": {
        "id": "V1eoikOAlj14"
      },
      "source": [
        "# cleanText cleans the tweets removing @,hyperlinks and retweets\n",
        "def cleanText(text):\n",
        "  text = re.sub('@[A-Za-z0-9]','',text)\n",
        "  text = re.sub('#','',text)\n",
        "  text = re.sub('RT[\\s]+','',text)\n",
        "  text= re.sub('https?:\\/\\/\\S+','',text)\n",
        "  return text "
      ],
      "execution_count": null,
      "outputs": []
    },
    {
      "cell_type": "code",
      "metadata": {
        "id": "zUbSC99V1HoW"
      },
      "source": [
        "df['Tweets']= df['Tweets'].apply(cleanText)\n",
        "df"
      ],
      "execution_count": null,
      "outputs": []
    },
    {
      "cell_type": "code",
      "metadata": {
        "id": "f0yiuXXI7SwU"
      },
      "source": [
        "def get_subjectivity(text):\n",
        "  return TextBlob(text).sentiment.subjectivity\n",
        "\n",
        "def get_polarity(text):\n",
        "  return TextBlob(text).sentiment.polarity"
      ],
      "execution_count": null,
      "outputs": []
    },
    {
      "cell_type": "code",
      "metadata": {
        "id": "V-TGLUR38FOt",
        "colab": {
          "base_uri": "https://localhost:8080/",
          "height": 399
        },
        "outputId": "2728d169-53f5-48d6-bf42-1544a890b1ae"
      },
      "source": [
        "df['Subjectivity'] = df['Tweets'].apply(get_subjectivity)\n",
        "df['Polarity'] = df['Tweets'].apply(get_polarity)\n",
        "df"
      ],
      "execution_count": null,
      "outputs": [
        {
          "output_type": "execute_result",
          "data": {
            "text/html": [
              "<div>\n",
              "<style scoped>\n",
              "    .dataframe tbody tr th:only-of-type {\n",
              "        vertical-align: middle;\n",
              "    }\n",
              "\n",
              "    .dataframe tbody tr th {\n",
              "        vertical-align: top;\n",
              "    }\n",
              "\n",
              "    .dataframe thead th {\n",
              "        text-align: right;\n",
              "    }\n",
              "</style>\n",
              "<table border=\"1\" class=\"dataframe\">\n",
              "  <thead>\n",
              "    <tr style=\"text-align: right;\">\n",
              "      <th></th>\n",
              "      <th>Tweets</th>\n",
              "      <th>Subjectivity</th>\n",
              "      <th>Polarity</th>\n",
              "    </tr>\n",
              "  </thead>\n",
              "  <tbody>\n",
              "    <tr>\n",
              "      <th>0</th>\n",
              "      <td>\"#Bitcoin is a technical solution to give 8,00...</td>\n",
              "      <td>0.05000</td>\n",
              "      <td>0.000000</td>\n",
              "    </tr>\n",
              "    <tr>\n",
              "      <th>1</th>\n",
              "      <td>“Digital assets are quickly becoming integrate...</td>\n",
              "      <td>0.41250</td>\n",
              "      <td>0.112500</td>\n",
              "    </tr>\n",
              "    <tr>\n",
              "      <th>2</th>\n",
              "      <td>RT @BitcoinMagazine: Wikipedia now lists #Bitc...</td>\n",
              "      <td>0.00000</td>\n",
              "      <td>0.000000</td>\n",
              "    </tr>\n",
              "    <tr>\n",
              "      <th>3</th>\n",
              "      <td>The 100-1,000 #Bitcoin wallets are stronger th...</td>\n",
              "      <td>0.00000</td>\n",
              "      <td>0.000000</td>\n",
              "    </tr>\n",
              "    <tr>\n",
              "      <th>4</th>\n",
              "      <td>$37,500.</td>\n",
              "      <td>0.00000</td>\n",
              "      <td>0.000000</td>\n",
              "    </tr>\n",
              "    <tr>\n",
              "      <th>...</th>\n",
              "      <td>...</td>\n",
              "      <td>...</td>\n",
              "      <td>...</td>\n",
              "    </tr>\n",
              "    <tr>\n",
              "      <th>95</th>\n",
              "      <td>RT @dan_pantera: This is getting ridiculous.  ...</td>\n",
              "      <td>1.00000</td>\n",
              "      <td>-0.333333</td>\n",
              "    </tr>\n",
              "    <tr>\n",
              "      <th>96</th>\n",
              "      <td>An interesting increase in the fiat money expe...</td>\n",
              "      <td>0.50000</td>\n",
              "      <td>0.500000</td>\n",
              "    </tr>\n",
              "    <tr>\n",
              "      <th>97</th>\n",
              "      <td>Most likely #Bitcoin is not going away. The fu...</td>\n",
              "      <td>0.55625</td>\n",
              "      <td>0.175000</td>\n",
              "    </tr>\n",
              "    <tr>\n",
              "      <th>98</th>\n",
              "      <td>#Bitcoin is in the top-10 of the world's M1 Mo...</td>\n",
              "      <td>0.00000</td>\n",
              "      <td>0.000000</td>\n",
              "    </tr>\n",
              "    <tr>\n",
              "      <th>99</th>\n",
              "      <td>$63,500.</td>\n",
              "      <td>0.00000</td>\n",
              "      <td>0.000000</td>\n",
              "    </tr>\n",
              "  </tbody>\n",
              "</table>\n",
              "<p>100 rows × 3 columns</p>\n",
              "</div>"
            ],
            "text/plain": [
              "                                               Tweets  Subjectivity  Polarity\n",
              "0   \"#Bitcoin is a technical solution to give 8,00...       0.05000  0.000000\n",
              "1   “Digital assets are quickly becoming integrate...       0.41250  0.112500\n",
              "2   RT @BitcoinMagazine: Wikipedia now lists #Bitc...       0.00000  0.000000\n",
              "3   The 100-1,000 #Bitcoin wallets are stronger th...       0.00000  0.000000\n",
              "4                                            $37,500.       0.00000  0.000000\n",
              "..                                                ...           ...       ...\n",
              "95  RT @dan_pantera: This is getting ridiculous.  ...       1.00000 -0.333333\n",
              "96  An interesting increase in the fiat money expe...       0.50000  0.500000\n",
              "97  Most likely #Bitcoin is not going away. The fu...       0.55625  0.175000\n",
              "98  #Bitcoin is in the top-10 of the world's M1 Mo...       0.00000  0.000000\n",
              "99                                           $63,500.       0.00000  0.000000\n",
              "\n",
              "[100 rows x 3 columns]"
            ]
          },
          "metadata": {
            "tags": []
          },
          "execution_count": 50
        }
      ]
    },
    {
      "cell_type": "code",
      "metadata": {
        "id": "nwoeqZPr_XLz",
        "colab": {
          "base_uri": "https://localhost:8080/",
          "height": 399
        },
        "outputId": "7e7eb6c6-f7f5-4eef-dc09-044868a2eb3b"
      },
      "source": [
        "def getAnalysis(score):\n",
        "    if score<0:\n",
        "        return 'Negative'\n",
        "    elif score==0:\n",
        "        return 'Neutral'\n",
        "    else:\n",
        "        return 'Positive'\n",
        "\n",
        "df['Analysis']= df['Polarity'].apply(getAnalysis)\n",
        "df"
      ],
      "execution_count": null,
      "outputs": [
        {
          "output_type": "execute_result",
          "data": {
            "text/html": [
              "<div>\n",
              "<style scoped>\n",
              "    .dataframe tbody tr th:only-of-type {\n",
              "        vertical-align: middle;\n",
              "    }\n",
              "\n",
              "    .dataframe tbody tr th {\n",
              "        vertical-align: top;\n",
              "    }\n",
              "\n",
              "    .dataframe thead th {\n",
              "        text-align: right;\n",
              "    }\n",
              "</style>\n",
              "<table border=\"1\" class=\"dataframe\">\n",
              "  <thead>\n",
              "    <tr style=\"text-align: right;\">\n",
              "      <th></th>\n",
              "      <th>Tweets</th>\n",
              "      <th>Subjectivity</th>\n",
              "      <th>Polarity</th>\n",
              "      <th>Analysis</th>\n",
              "    </tr>\n",
              "  </thead>\n",
              "  <tbody>\n",
              "    <tr>\n",
              "      <th>0</th>\n",
              "      <td>\"#Bitcoin is a technical solution to give 8,00...</td>\n",
              "      <td>0.05000</td>\n",
              "      <td>0.000000</td>\n",
              "      <td>Neutral</td>\n",
              "    </tr>\n",
              "    <tr>\n",
              "      <th>1</th>\n",
              "      <td>“Digital assets are quickly becoming integrate...</td>\n",
              "      <td>0.41250</td>\n",
              "      <td>0.112500</td>\n",
              "      <td>Positive</td>\n",
              "    </tr>\n",
              "    <tr>\n",
              "      <th>2</th>\n",
              "      <td>RT @BitcoinMagazine: Wikipedia now lists #Bitc...</td>\n",
              "      <td>0.00000</td>\n",
              "      <td>0.000000</td>\n",
              "      <td>Neutral</td>\n",
              "    </tr>\n",
              "    <tr>\n",
              "      <th>3</th>\n",
              "      <td>The 100-1,000 #Bitcoin wallets are stronger th...</td>\n",
              "      <td>0.00000</td>\n",
              "      <td>0.000000</td>\n",
              "      <td>Neutral</td>\n",
              "    </tr>\n",
              "    <tr>\n",
              "      <th>4</th>\n",
              "      <td>$37,500.</td>\n",
              "      <td>0.00000</td>\n",
              "      <td>0.000000</td>\n",
              "      <td>Neutral</td>\n",
              "    </tr>\n",
              "    <tr>\n",
              "      <th>...</th>\n",
              "      <td>...</td>\n",
              "      <td>...</td>\n",
              "      <td>...</td>\n",
              "      <td>...</td>\n",
              "    </tr>\n",
              "    <tr>\n",
              "      <th>95</th>\n",
              "      <td>RT @dan_pantera: This is getting ridiculous.  ...</td>\n",
              "      <td>1.00000</td>\n",
              "      <td>-0.333333</td>\n",
              "      <td>Negative</td>\n",
              "    </tr>\n",
              "    <tr>\n",
              "      <th>96</th>\n",
              "      <td>An interesting increase in the fiat money expe...</td>\n",
              "      <td>0.50000</td>\n",
              "      <td>0.500000</td>\n",
              "      <td>Positive</td>\n",
              "    </tr>\n",
              "    <tr>\n",
              "      <th>97</th>\n",
              "      <td>Most likely #Bitcoin is not going away. The fu...</td>\n",
              "      <td>0.55625</td>\n",
              "      <td>0.175000</td>\n",
              "      <td>Positive</td>\n",
              "    </tr>\n",
              "    <tr>\n",
              "      <th>98</th>\n",
              "      <td>#Bitcoin is in the top-10 of the world's M1 Mo...</td>\n",
              "      <td>0.00000</td>\n",
              "      <td>0.000000</td>\n",
              "      <td>Neutral</td>\n",
              "    </tr>\n",
              "    <tr>\n",
              "      <th>99</th>\n",
              "      <td>$63,500.</td>\n",
              "      <td>0.00000</td>\n",
              "      <td>0.000000</td>\n",
              "      <td>Neutral</td>\n",
              "    </tr>\n",
              "  </tbody>\n",
              "</table>\n",
              "<p>100 rows × 4 columns</p>\n",
              "</div>"
            ],
            "text/plain": [
              "                                               Tweets  ...  Analysis\n",
              "0   \"#Bitcoin is a technical solution to give 8,00...  ...   Neutral\n",
              "1   “Digital assets are quickly becoming integrate...  ...  Positive\n",
              "2   RT @BitcoinMagazine: Wikipedia now lists #Bitc...  ...   Neutral\n",
              "3   The 100-1,000 #Bitcoin wallets are stronger th...  ...   Neutral\n",
              "4                                            $37,500.  ...   Neutral\n",
              "..                                                ...  ...       ...\n",
              "95  RT @dan_pantera: This is getting ridiculous.  ...  ...  Negative\n",
              "96  An interesting increase in the fiat money expe...  ...  Positive\n",
              "97  Most likely #Bitcoin is not going away. The fu...  ...  Positive\n",
              "98  #Bitcoin is in the top-10 of the world's M1 Mo...  ...   Neutral\n",
              "99                                           $63,500.  ...   Neutral\n",
              "\n",
              "[100 rows x 4 columns]"
            ]
          },
          "metadata": {
            "tags": []
          },
          "execution_count": 51
        }
      ]
    },
    {
      "cell_type": "code",
      "metadata": {
        "id": "GSvrDfFuFJpL",
        "colab": {
          "base_uri": "https://localhost:8080/",
          "height": 408
        },
        "outputId": "579616b7-811a-4774-c7d2-52e17e695f3f"
      },
      "source": [
        "# plotting scatter plot\n",
        "plt.figure(figsize=(8,6))\n",
        "for i in range(0,df.shape[0]):\n",
        "    plt.scatter(df['Polarity'][i],df['Subjectivity'][i],color='Blue')\n",
        "    \n",
        "plt.title(\"Sentiment Analysis\")\n",
        "plt.xlim(-1,1)\n",
        "plt.xlabel('Polarity')\n",
        "plt.ylabel('Subjectivity')\n",
        "plt.show()"
      ],
      "execution_count": null,
      "outputs": [
        {
          "output_type": "display_data",
          "data": {
            "image/png": "[encoded data removed]",
            "text/plain": [
              "<Figure size 576x432 with 1 Axes>"
            ]
          },
          "metadata": {
            "tags": []
          }
        }
      ]
    },
    {
      "cell_type": "code",
      "metadata": {
        "id": "qNXf6xLbFaVh",
        "colab": {
          "base_uri": "https://localhost:8080/",
          "height": 299
        },
        "outputId": "6ef9c2a0-645c-4843-f002-d45ab1423ad1"
      },
      "source": [
        "df['Analysis'].value_counts().plot(kind='barh')\n",
        "plt.title(\"Sentiment Analysis\")\n",
        "plt.xlabel('Polarity')\n",
        "plt.ylabel('Count')\n",
        "plt.show()"
      ],
      "execution_count": null,
      "outputs": [
        {
          "output_type": "display_data",
          "data": {
            "image/png": "[encoded data removed]",
            "text/plain": [
              "<Figure size 432x288 with 1 Axes>"
            ]
          },
          "metadata": {
            "tags": []
          }
        }
      ]
    }
  ]
}